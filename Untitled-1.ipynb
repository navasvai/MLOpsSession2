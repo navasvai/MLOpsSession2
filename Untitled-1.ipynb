{
 "cells": [
  {
   "cell_type": "code",
   "execution_count": 2,
   "metadata": {},
   "outputs": [],
   "source": [
    "import numpy as np\n",
    "import matplotlib.pyplot as plt\n",
    "from sklearn.decomposition import PCA\n",
    "from sklearn.linear_model import LogisticRegression\n",
    "from sklearn.metrics import roc_curve, auc, confusion_matrix\n",
    "from keras.datasets import cifar10\n",
    "from keras.models import Model, Sequential\n",
    "from keras.layers import Input, Dense, Conv2D, MaxPooling2D, UpSampling2D, Flatten, Reshape\n",
    "from keras.utils import to_categorical\n"
   ]
  },
  {
   "cell_type": "code",
   "execution_count": 3,
   "metadata": {},
   "outputs": [
    {
     "name": "stdout",
     "output_type": "stream",
     "text": [
      "Downloading data from https://www.cs.toronto.edu/~kriz/cifar-10-python.tar.gz\n",
      "\u001b[1m170498071/170498071\u001b[0m \u001b[32m━━━━━━━━━━━━━━━━━━━━\u001b[0m\u001b[37m\u001b[0m \u001b[1m39s\u001b[0m 0us/step\n"
     ]
    }
   ],
   "source": [
    "from skimage.color import rgb2gray\n",
    "\n",
    "# Load CIFAR10 dataset\n",
    "(x_train, y_train), (x_test, y_test) = cifar10.load_data()\n",
    "\n",
    "# Convert to grayscale\n",
    "x_train_gray = np.array([rgb2gray(img) for img in x_train])\n",
    "x_test_gray = np.array([rgb2gray(img) for img in x_test])\n",
    "\n",
    "# Flatten images\n",
    "x_train_gray = x_train_gray.reshape(x_train_gray.shape[0], -1)\n",
    "x_test_gray = x_test_gray.reshape(x_test_gray.shape[0], -1)\n"
   ]
  },
  {
   "cell_type": "code",
   "execution_count": 3,
   "metadata": {},
   "outputs": [
    {
     "ename": "NameError",
     "evalue": "name 'x_train_gray' is not defined",
     "output_type": "error",
     "traceback": [
      "\u001b[1;31m---------------------------------------------------------------------------\u001b[0m",
      "\u001b[1;31mNameError\u001b[0m                                 Traceback (most recent call last)",
      "Cell \u001b[1;32mIn[3], line 3\u001b[0m\n\u001b[0;32m      1\u001b[0m \u001b[38;5;66;03m# Apply PCA\u001b[39;00m\n\u001b[0;32m      2\u001b[0m pca \u001b[38;5;241m=\u001b[39m PCA(n_components\u001b[38;5;241m=\u001b[39m\u001b[38;5;241m0.95\u001b[39m)  \u001b[38;5;66;03m# Retain 95% of the variance\u001b[39;00m\n\u001b[1;32m----> 3\u001b[0m x_train_pca \u001b[38;5;241m=\u001b[39m pca\u001b[38;5;241m.\u001b[39mfit_transform(\u001b[43mx_train_gray\u001b[49m)\n\u001b[0;32m      5\u001b[0m \u001b[38;5;66;03m# Logistic Regression\u001b[39;00m\n\u001b[0;32m      6\u001b[0m lr \u001b[38;5;241m=\u001b[39m LogisticRegression(max_iter\u001b[38;5;241m=\u001b[39m\u001b[38;5;241m1000\u001b[39m)\n",
      "\u001b[1;31mNameError\u001b[0m: name 'x_train_gray' is not defined"
     ]
    }
   ],
   "source": [
    "# Apply PCA\n",
    "pca = PCA(n_components=0.95)  # Retain 95% of the variance\n",
    "x_train_pca = pca.fit_transform(x_train_gray)\n",
    "\n",
    "# Logistic Regression\n",
    "lr = LogisticRegression(max_iter=1000)\n",
    "lr.fit(x_train_pca, y_train.ravel())\n",
    "\n",
    "# Transform test data\n",
    "x_test_pca = pca.transform(x_test_gray)\n",
    "y_pred = lr.predict_proba(x_test_pca)\n"
   ]
  },
  {
   "cell_type": "code",
   "execution_count": null,
   "metadata": {},
   "outputs": [],
   "source": [
    "from sklearn.decomposition import PCA\n",
    "\n",
    "# Randomized PCA\n",
    "pca_randomized = PCA(n_components=0.95, svd_solver='randomized')\n",
    "x_train_randomized_pca = pca_randomized.fit_transform(x_train_gray)\n",
    "x_test_randomized_pca = pca_randomized.transform(x_test_gray)\n",
    "\n",
    "# Logistic Regression\n",
    "lr_randomized = LogisticRegression(max_iter=1000)\n",
    "lr_randomized.fit(x_train_randomized_pca, y_train.ravel())\n",
    "y_pred_randomized = lr_randomized.predict_proba(x_test_randomized_pca)\n"
   ]
  },
  {
   "cell_type": "code",
   "execution_count": null,
   "metadata": {},
   "outputs": [],
   "source": [
    "# ROC curve for each class\n",
    "for i in range(10):\n",
    "    fpr, tpr, _ = roc_curve(to_categorical(y_test, 10)[:, i], y_pred[:, i])\n",
    "    plt.plot(fpr, tpr, label=f'Class {i}')\n",
    "plt.legend()\n",
    "plt.title('ROC Curve - Standard PCA')\n",
    "plt.show()\n",
    "\n",
    "# Repeat for randomized PCA\n"
   ]
  },
  {
   "cell_type": "code",
   "execution_count": null,
   "metadata": {},
   "outputs": [],
   "source": []
  },
  {
   "cell_type": "code",
   "execution_count": null,
   "metadata": {},
   "outputs": [],
   "source": [
    "from keras.optimizers import Adam\n",
    "\n",
    "# Normalization\n",
    "x_train_norm = (x_train_gray - np.mean(x_train_gray, axis=0)) / np.std(x_train_gray, axis=0)\n",
    "\n",
    "# Autoencoder\n",
    "input_dim = x_train_gray.shape[1]\n",
    "latent_dim = pca.n_components_\n",
    "\n",
    "input_layer = Input(shape=(input_dim,))\n",
    "encoded = Dense(latent_dim, activation='linear')(input_layer)\n",
    "decoded = Dense(input_dim, activation='linear')(encoded)\n",
    "\n",
    "autoencoder = Model(inputs=input_layer, outputs=decoded)\n",
    "autoencoder.compile(optimizer=Adam(), loss='mse')\n",
    "autoencoder.fit(x_train_norm, x_train_norm, epochs=10, batch_size=256, validation_split=0.2)\n",
    "\n",
    "# Compare PCA eigenvectors with encoder weights\n",
    "encoder_weights = autoencoder.layers[1].get_weights()[0]\n",
    "print(\"Eigenvector comparison:\", np.allclose(pca.components_.T, encoder_weights))\n"
   ]
  },
  {
   "cell_type": "code",
   "execution_count": null,
   "metadata": {},
   "outputs": [],
   "source": [
    "# Define deep convolutional autoencoder\n",
    "input_img = Input(shape=(32, 32, 1))\n",
    "x = Conv2D(32, (3, 3), activation='relu', padding='same')(input_img)\n",
    "x = MaxPooling2D((2, 2), padding='same')(x)\n",
    "x = Conv2D(16, (3, 3), activation='relu', padding='same')(x)\n",
    "encoded = MaxPooling2D((2, 2), padding='same')(x)\n",
    "\n",
    "x = Conv2D(16, (3, 3), activation='relu', padding='same')(encoded)\n",
    "x = UpSampling2D((2, 2))(x)\n",
    "x = Conv2D(32, (3, 3), activation='relu', padding='same')(x)\n",
    "x = UpSampling2D((2, 2))(x)\n",
    "decoded = Conv2D(1, (3, 3), activation='sigmoid', padding='same')(x)\n",
    "\n",
    "autoencoder = Model(input_img, decoded)\n",
    "autoencoder.compile(optimizer=Adam(), loss='mse')\n",
    "autoencoder.fit(x_train_gray.reshape(-1, 32, 32, 1), x_train_gray.reshape(-1, 32, 32, 1), epochs=10, batch_size=128, validation_split=0.2)\n"
   ]
  },
  {
   "cell_type": "code",
   "execution_count": null,
   "metadata": {},
   "outputs": [],
   "source": []
  },
  {
   "cell_type": "code",
   "execution_count": null,
   "metadata": {},
   "outputs": [],
   "source": [
    "# Define deep convolutional autoencoder\n",
    "input_img = Input(shape=(32, 32, 1))\n",
    "x = Conv2D(32, (3, 3), activation='relu', padding='same')(input_img)\n",
    "x = MaxPooling2D((2, 2), padding='same')(x)\n",
    "x = Conv2D(16, (3, 3), activation='relu', padding='same')(x)\n",
    "encoded = MaxPooling2D((2, 2), padding='same')(x)\n",
    "\n",
    "x = Conv2D(16, (3, 3), activation='relu', padding='same')(encoded)\n",
    "x = UpSampling2D((2, 2))(x)\n",
    "x = Conv2D(32, (3, 3), activation='relu', padding='same')(x)\n",
    "x = UpSampling2D((2, 2))(x)\n",
    "decoded = Conv2D(1, (3, 3), activation='sigmoid', padding='same')(x)\n",
    "\n",
    "autoencoder = Model(input_img, decoded)\n",
    "autoencoder.compile(optimizer=Adam(), loss='mse')\n",
    "autoencoder.fit(x_train_gray.reshape(-1, 32, 32, 1), x_train_gray.reshape(-1, 32, 32, 1), epochs=10, batch_size=128, validation_split=0.2)\n"
   ]
  },
  {
   "cell_type": "code",
   "execution_count": null,
   "metadata": {},
   "outputs": [],
   "source": [
    "# Evaluate reconstruction error\n",
    "single_layer_loss = autoencoder.evaluate(x_test_gray.reshape(-1, 32, 32, 1), x_test_gray.reshape(-1, 32, 32, 1))\n",
    "print(\"Single Layer Reconstruction Loss:\", single_layer_loss)\n"
   ]
  },
  {
   "cell_type": "code",
   "execution_count": null,
   "metadata": {},
   "outputs": [],
   "source": []
  },
  {
   "cell_type": "code",
   "execution_count": null,
   "metadata": {},
   "outputs": [],
   "source": [
    "from keras.datasets import mnist\n",
    "\n",
    "(x_train_mnist, y_train_mnist), (x_test_mnist, y_test_mnist) = mnist.load_data()\n",
    "x_train_mnist = x_train_mnist.astype('float32') / 255.0\n",
    "x_test_mnist = x_test_mnist.astype('float32') / 255.0\n",
    "x_train_mnist = x_train_mnist.reshape(-1, 28, 28, 1)\n",
    "x_test_mnist = x_test_mnist.reshape(-1, 28, 28, 1)\n",
    "\n",
    "# Train a similar convolutional autoencoder\n",
    "# Extract features and train MLP for 7-segment classification\n"
   ]
  },
  {
   "cell_type": "code",
   "execution_count": null,
   "metadata": {},
   "outputs": [],
   "source": []
  },
  {
   "cell_type": "code",
   "execution_count": null,
   "metadata": {},
   "outputs": [],
   "source": [
    "# Save Jupyter Notebook\n",
    "!jupyter nbconvert --to html your_notebook_name.ipynb\n"
   ]
  }
 ],
 "metadata": {
  "kernelspec": {
   "display_name": "base",
   "language": "python",
   "name": "python3"
  },
  "language_info": {
   "codemirror_mode": {
    "name": "ipython",
    "version": 3
   },
   "file_extension": ".py",
   "mimetype": "text/x-python",
   "name": "python",
   "nbconvert_exporter": "python",
   "pygments_lexer": "ipython3",
   "version": "3.10.9"
  }
 },
 "nbformat": 4,
 "nbformat_minor": 2
}
